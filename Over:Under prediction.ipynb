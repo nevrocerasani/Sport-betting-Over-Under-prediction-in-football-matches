{
 "cells": [
  {
   "cell_type": "markdown",
   "metadata": {},
   "source": [
    "## Data Preprocessing"
   ]
  },
  {
   "cell_type": "code",
   "execution_count": 1,
   "metadata": {},
   "outputs": [
    {
     "name": "stderr",
     "output_type": "stream",
     "text": [
      "/Users/nevrocerasani/opt/anaconda3/lib/python3.7/site-packages/statsmodels/tools/_testing.py:19: FutureWarning: pandas.util.testing is deprecated. Use the functions in the public API at pandas.testing instead.\n",
      "  import pandas.util.testing as tm\n",
      "Using TensorFlow backend.\n"
     ]
    }
   ],
   "source": [
    "# Importing the necessary packages\n",
    "\n",
    "import pandas as pd\n",
    "import numpy as np\n",
    "import matplotlib.pyplot as plt\n",
    "from sklearn.model_selection import train_test_split\n",
    "from sklearn.linear_model import LogisticRegression\n",
    "from sklearn import metrics\n",
    "import seaborn as sn\n",
    "from keras.models import Sequential\n",
    "from keras.layers import Dense, Dropout\n",
    "from keras.models import load_model"
   ]
  },
  {
   "cell_type": "code",
   "execution_count": 2,
   "metadata": {},
   "outputs": [],
   "source": [
    "# Importing the dataset and adjusting it according to our needs\n",
    "\n",
    "df = pd.read_csv(\"FootballDataEurope.csv\")\n",
    "df = df.iloc[:, [1,2,3,5,6,7,8,9]]\n",
    "df.columns = [\"Country\", \"League\", \"Season\", \"Date\", \"Home Team\", \"Away Team\", \"Home Team Goals\", \"Away Team Goals\"]\n",
    "df.sort_values([\"Country\", \"Date\"], inplace=True)"
   ]
  },
  {
   "cell_type": "code",
   "execution_count": 3,
   "metadata": {},
   "outputs": [],
   "source": [
    "# Changing the format of dates in order to work more comfortable with them\n",
    "\n",
    "def date(dates):\n",
    "    dates = dates.replace(\"/\", \"-\")\n",
    "    return dates\n",
    "df[\"Season\"] = df[\"Season\"].apply(lambda x: date(x))"
   ]
  },
  {
   "cell_type": "code",
   "execution_count": 4,
   "metadata": {},
   "outputs": [
    {
     "data": {
      "text/html": [
       "<div>\n",
       "<style scoped>\n",
       "    .dataframe tbody tr th:only-of-type {\n",
       "        vertical-align: middle;\n",
       "    }\n",
       "\n",
       "    .dataframe tbody tr th {\n",
       "        vertical-align: top;\n",
       "    }\n",
       "\n",
       "    .dataframe thead th {\n",
       "        text-align: right;\n",
       "    }\n",
       "</style>\n",
       "<table border=\"1\" class=\"dataframe\">\n",
       "  <thead>\n",
       "    <tr style=\"text-align: right;\">\n",
       "      <th></th>\n",
       "      <th>Country</th>\n",
       "      <th>League</th>\n",
       "      <th>Season</th>\n",
       "      <th>Date</th>\n",
       "      <th>Home Team</th>\n",
       "      <th>Away Team</th>\n",
       "      <th>Home Team Goals</th>\n",
       "      <th>Away Team Goals</th>\n",
       "    </tr>\n",
       "  </thead>\n",
       "  <tbody>\n",
       "    <tr>\n",
       "      <th>52</th>\n",
       "      <td>Belgium</td>\n",
       "      <td>Belgium Jupiler League</td>\n",
       "      <td>2008-2009</td>\n",
       "      <td>2008-08-16 00:00:00</td>\n",
       "      <td>SV Zulte-Waregem</td>\n",
       "      <td>Sporting Lokeren</td>\n",
       "      <td>0</td>\n",
       "      <td>0</td>\n",
       "    </tr>\n",
       "    <tr>\n",
       "      <th>53</th>\n",
       "      <td>Belgium</td>\n",
       "      <td>Belgium Jupiler League</td>\n",
       "      <td>2008-2009</td>\n",
       "      <td>2008-08-16 00:00:00</td>\n",
       "      <td>KSV Cercle Brugge</td>\n",
       "      <td>RSC Anderlecht</td>\n",
       "      <td>0</td>\n",
       "      <td>3</td>\n",
       "    </tr>\n",
       "    <tr>\n",
       "      <th>54</th>\n",
       "      <td>Belgium</td>\n",
       "      <td>Belgium Jupiler League</td>\n",
       "      <td>2008-2009</td>\n",
       "      <td>2008-08-16 00:00:00</td>\n",
       "      <td>FCV Dender EH</td>\n",
       "      <td>Standard de Liège</td>\n",
       "      <td>1</td>\n",
       "      <td>3</td>\n",
       "    </tr>\n",
       "    <tr>\n",
       "      <th>55</th>\n",
       "      <td>Belgium</td>\n",
       "      <td>Belgium Jupiler League</td>\n",
       "      <td>2008-2009</td>\n",
       "      <td>2008-08-16 00:00:00</td>\n",
       "      <td>KSV Roeselare</td>\n",
       "      <td>KV Kortrijk</td>\n",
       "      <td>2</td>\n",
       "      <td>2</td>\n",
       "    </tr>\n",
       "    <tr>\n",
       "      <th>56</th>\n",
       "      <td>Belgium</td>\n",
       "      <td>Belgium Jupiler League</td>\n",
       "      <td>2008-2009</td>\n",
       "      <td>2008-08-16 00:00:00</td>\n",
       "      <td>Tubize</td>\n",
       "      <td>Royal Excel Mouscron</td>\n",
       "      <td>1</td>\n",
       "      <td>2</td>\n",
       "    </tr>\n",
       "  </tbody>\n",
       "</table>\n",
       "</div>"
      ],
      "text/plain": [
       "    Country                  League     Season                 Date  \\\n",
       "52  Belgium  Belgium Jupiler League  2008-2009  2008-08-16 00:00:00   \n",
       "53  Belgium  Belgium Jupiler League  2008-2009  2008-08-16 00:00:00   \n",
       "54  Belgium  Belgium Jupiler League  2008-2009  2008-08-16 00:00:00   \n",
       "55  Belgium  Belgium Jupiler League  2008-2009  2008-08-16 00:00:00   \n",
       "56  Belgium  Belgium Jupiler League  2008-2009  2008-08-16 00:00:00   \n",
       "\n",
       "            Home Team             Away Team  Home Team Goals  Away Team Goals  \n",
       "52   SV Zulte-Waregem      Sporting Lokeren                0                0  \n",
       "53  KSV Cercle Brugge        RSC Anderlecht                0                3  \n",
       "54      FCV Dender EH     Standard de Liège                1                3  \n",
       "55      KSV Roeselare           KV Kortrijk                2                2  \n",
       "56             Tubize  Royal Excel Mouscron                1                2  "
      ]
     },
     "execution_count": 4,
     "metadata": {},
     "output_type": "execute_result"
    }
   ],
   "source": [
    "# Giving a look to the dataset in its final shape\n",
    "\n",
    "df.head()"
   ]
  },
  {
   "cell_type": "code",
   "execution_count": 5,
   "metadata": {},
   "outputs": [],
   "source": [
    "# Creating a list of all the leagues and the seasons concatenated\n",
    "\n",
    "leagues = df.League.unique()\n",
    "seasons = df.Season.unique()\n",
    "league_season = []\n",
    "for i in leagues:\n",
    "    for j in seasons:\n",
    "        ls = []\n",
    "        ls.append(i)\n",
    "        ls.append(j)\n",
    "        league_season.append(ls)"
   ]
  },
  {
   "cell_type": "code",
   "execution_count": 6,
   "metadata": {},
   "outputs": [],
   "source": [
    "# Separating the dataset in order to have a .csv file for each season in each league.\n",
    "# I commented this code because it needs to be executed only once.\n",
    "# NOTE: make sure to create a folder named \"Leagues Seasons\" in your working directory otherwise it will not work\n",
    "# (this little issue could be solved by using some functions from the OS package).\n",
    "\n",
    "#for i in league_season:\n",
    "    #df[(df[\"League\"]==i[0]) & (df[\"Season\"]==i[1])].to_csv(\"Leagues Seasons/\" + str(i[0]) + \" \" + str(i[1]) + \".csv\")"
   ]
  },
  {
   "cell_type": "code",
   "execution_count": 7,
   "metadata": {},
   "outputs": [],
   "source": [
    "# Defining a function to create the features we will need for our predictions.\n",
    "\n",
    "def stats(season):\n",
    "    season = season.drop(\"Unnamed: 0\", axis=1)\n",
    "    teams = season[\"Home Team\"].unique()\n",
    "    window = 5\n",
    "    nan_col = np.nan\n",
    "    season[\"HAS\"] = nan_col\n",
    "    season[\"HDS\"] = nan_col\n",
    "    season[\"AAS\"] = nan_col\n",
    "    season[\"ADS\"] = nan_col\n",
    "    season[\"OH\"] = nan_col\n",
    "    season[\"OA\"] = nan_col\n",
    "    season[\"Over/Under\"] = [1 if (j[\"Home Team Goals\"] + j[\"Away Team Goals\"])>2 else 0 for i,j in season.iterrows()]\n",
    "    for i in teams:\n",
    "        hometeam = season[\"Home Team\"]==i\n",
    "        awayteam = season[\"Away Team\"]==i\n",
    "        season[\"HAS\"][hometeam] = season[\"Home Team Goals\"][hometeam].ewm(span=window).mean()\n",
    "        season[\"HDS\"][hometeam] = season[\"Away Team Goals\"][hometeam].ewm(span=window).mean()\n",
    "        season[\"AAS\"][awayteam] = season[\"Away Team Goals\"][awayteam].ewm(span=window).mean()\n",
    "        season[\"ADS\"][awayteam] = season[\"Home Team Goals\"][awayteam].ewm(span=window).mean()\n",
    "        season[\"OH\"][hometeam] = season[\"Over/Under\"][hometeam].ewm(span=window).mean()\n",
    "        season[\"OA\"][awayteam] = season[\"Over/Under\"][awayteam].ewm(span=window).mean()\n",
    "    season = season.dropna()\n",
    "    return season"
   ]
  },
  {
   "cell_type": "code",
   "execution_count": 8,
   "metadata": {},
   "outputs": [
    {
     "name": "stderr",
     "output_type": "stream",
     "text": [
      "/Users/nevrocerasani/opt/anaconda3/lib/python3.7/site-packages/ipykernel_launcher.py:18: SettingWithCopyWarning: \n",
      "A value is trying to be set on a copy of a slice from a DataFrame\n",
      "\n",
      "See the caveats in the documentation: https://pandas.pydata.org/pandas-docs/stable/user_guide/indexing.html#returning-a-view-versus-a-copy\n",
      "/Users/nevrocerasani/opt/anaconda3/lib/python3.7/site-packages/ipykernel_launcher.py:19: SettingWithCopyWarning: \n",
      "A value is trying to be set on a copy of a slice from a DataFrame\n",
      "\n",
      "See the caveats in the documentation: https://pandas.pydata.org/pandas-docs/stable/user_guide/indexing.html#returning-a-view-versus-a-copy\n",
      "/Users/nevrocerasani/opt/anaconda3/lib/python3.7/site-packages/ipykernel_launcher.py:20: SettingWithCopyWarning: \n",
      "A value is trying to be set on a copy of a slice from a DataFrame\n",
      "\n",
      "See the caveats in the documentation: https://pandas.pydata.org/pandas-docs/stable/user_guide/indexing.html#returning-a-view-versus-a-copy\n",
      "/Users/nevrocerasani/opt/anaconda3/lib/python3.7/site-packages/ipykernel_launcher.py:21: SettingWithCopyWarning: \n",
      "A value is trying to be set on a copy of a slice from a DataFrame\n",
      "\n",
      "See the caveats in the documentation: https://pandas.pydata.org/pandas-docs/stable/user_guide/indexing.html#returning-a-view-versus-a-copy\n",
      "/Users/nevrocerasani/opt/anaconda3/lib/python3.7/site-packages/ipykernel_launcher.py:22: SettingWithCopyWarning: \n",
      "A value is trying to be set on a copy of a slice from a DataFrame\n",
      "\n",
      "See the caveats in the documentation: https://pandas.pydata.org/pandas-docs/stable/user_guide/indexing.html#returning-a-view-versus-a-copy\n",
      "/Users/nevrocerasani/opt/anaconda3/lib/python3.7/site-packages/ipykernel_launcher.py:23: SettingWithCopyWarning: \n",
      "A value is trying to be set on a copy of a slice from a DataFrame\n",
      "\n",
      "See the caveats in the documentation: https://pandas.pydata.org/pandas-docs/stable/user_guide/indexing.html#returning-a-view-versus-a-copy\n"
     ]
    }
   ],
   "source": [
    "# Applying the previous function to all the datasets previously exported and eventually merging them to recreate\n",
    "# one large dataset.\n",
    "\n",
    "concat_list = []\n",
    "for i in league_season:\n",
    "    concat_list.append(\"Leagues Seasons/\" + str(i[0]) + \" \" + str(i[1]) + \".csv\")\n",
    "df_merge = []\n",
    "for i in concat_list:\n",
    "    try:\n",
    "        df_tomerge = pd.read_csv(i) \n",
    "        df_merge.append(stats(df_tomerge))\n",
    "    except:\n",
    "        continue\n",
    "merged_df = pd.concat(df_merge)"
   ]
  },
  {
   "cell_type": "code",
   "execution_count": 9,
   "metadata": {},
   "outputs": [
    {
     "data": {
      "text/html": [
       "<div>\n",
       "<style scoped>\n",
       "    .dataframe tbody tr th:only-of-type {\n",
       "        vertical-align: middle;\n",
       "    }\n",
       "\n",
       "    .dataframe tbody tr th {\n",
       "        vertical-align: top;\n",
       "    }\n",
       "\n",
       "    .dataframe thead th {\n",
       "        text-align: right;\n",
       "    }\n",
       "</style>\n",
       "<table border=\"1\" class=\"dataframe\">\n",
       "  <thead>\n",
       "    <tr style=\"text-align: right;\">\n",
       "      <th></th>\n",
       "      <th>Country</th>\n",
       "      <th>League</th>\n",
       "      <th>Season</th>\n",
       "      <th>Date</th>\n",
       "      <th>Home Team</th>\n",
       "      <th>Away Team</th>\n",
       "      <th>Home Team Goals</th>\n",
       "      <th>Away Team Goals</th>\n",
       "      <th>HAS</th>\n",
       "      <th>HDS</th>\n",
       "      <th>AAS</th>\n",
       "      <th>ADS</th>\n",
       "      <th>OH</th>\n",
       "      <th>OA</th>\n",
       "      <th>Over/Under</th>\n",
       "    </tr>\n",
       "  </thead>\n",
       "  <tbody>\n",
       "    <tr>\n",
       "      <th>175</th>\n",
       "      <td>Switzerland</td>\n",
       "      <td>Switzerland Super League</td>\n",
       "      <td>2015-2016</td>\n",
       "      <td>2016-05-25 00:00:00</td>\n",
       "      <td>FC Basel</td>\n",
       "      <td>Grasshopper Club Zürich</td>\n",
       "      <td>0</td>\n",
       "      <td>1</td>\n",
       "      <td>1.349294</td>\n",
       "      <td>0.937589</td>\n",
       "      <td>0.772233</td>\n",
       "      <td>1.151697</td>\n",
       "      <td>0.395948</td>\n",
       "      <td>0.356397</td>\n",
       "      <td>0</td>\n",
       "    </tr>\n",
       "    <tr>\n",
       "      <th>176</th>\n",
       "      <td>Switzerland</td>\n",
       "      <td>Switzerland Super League</td>\n",
       "      <td>2015-2016</td>\n",
       "      <td>2016-05-25 00:00:00</td>\n",
       "      <td>Lugano</td>\n",
       "      <td>FC St. Gallen</td>\n",
       "      <td>3</td>\n",
       "      <td>0</td>\n",
       "      <td>1.585333</td>\n",
       "      <td>1.418041</td>\n",
       "      <td>0.670711</td>\n",
       "      <td>2.592723</td>\n",
       "      <td>0.724248</td>\n",
       "      <td>0.813158</td>\n",
       "      <td>1</td>\n",
       "    </tr>\n",
       "    <tr>\n",
       "      <th>177</th>\n",
       "      <td>Switzerland</td>\n",
       "      <td>Switzerland Super League</td>\n",
       "      <td>2015-2016</td>\n",
       "      <td>2016-05-25 00:00:00</td>\n",
       "      <td>FC Luzern</td>\n",
       "      <td>FC Sion</td>\n",
       "      <td>2</td>\n",
       "      <td>2</td>\n",
       "      <td>2.767976</td>\n",
       "      <td>1.007609</td>\n",
       "      <td>1.401426</td>\n",
       "      <td>1.696838</td>\n",
       "      <td>0.968361</td>\n",
       "      <td>0.595714</td>\n",
       "      <td>1</td>\n",
       "    </tr>\n",
       "    <tr>\n",
       "      <th>178</th>\n",
       "      <td>Switzerland</td>\n",
       "      <td>Switzerland Super League</td>\n",
       "      <td>2015-2016</td>\n",
       "      <td>2016-05-25 00:00:00</td>\n",
       "      <td>FC Thun</td>\n",
       "      <td>BSC Young Boys</td>\n",
       "      <td>0</td>\n",
       "      <td>3</td>\n",
       "      <td>1.231006</td>\n",
       "      <td>1.798619</td>\n",
       "      <td>2.355924</td>\n",
       "      <td>0.952189</td>\n",
       "      <td>0.710234</td>\n",
       "      <td>0.908765</td>\n",
       "      <td>1</td>\n",
       "    </tr>\n",
       "    <tr>\n",
       "      <th>179</th>\n",
       "      <td>Switzerland</td>\n",
       "      <td>Switzerland Super League</td>\n",
       "      <td>2015-2016</td>\n",
       "      <td>2016-05-25 00:00:00</td>\n",
       "      <td>FC Zürich</td>\n",
       "      <td>FC Vaduz</td>\n",
       "      <td>3</td>\n",
       "      <td>1</td>\n",
       "      <td>1.628038</td>\n",
       "      <td>1.903931</td>\n",
       "      <td>1.838284</td>\n",
       "      <td>2.342107</td>\n",
       "      <td>0.760587</td>\n",
       "      <td>0.955183</td>\n",
       "      <td>1</td>\n",
       "    </tr>\n",
       "  </tbody>\n",
       "</table>\n",
       "</div>"
      ],
      "text/plain": [
       "         Country                    League     Season                 Date  \\\n",
       "175  Switzerland  Switzerland Super League  2015-2016  2016-05-25 00:00:00   \n",
       "176  Switzerland  Switzerland Super League  2015-2016  2016-05-25 00:00:00   \n",
       "177  Switzerland  Switzerland Super League  2015-2016  2016-05-25 00:00:00   \n",
       "178  Switzerland  Switzerland Super League  2015-2016  2016-05-25 00:00:00   \n",
       "179  Switzerland  Switzerland Super League  2015-2016  2016-05-25 00:00:00   \n",
       "\n",
       "     Home Team                Away Team  Home Team Goals  Away Team Goals  \\\n",
       "175   FC Basel  Grasshopper Club Zürich                0                1   \n",
       "176     Lugano            FC St. Gallen                3                0   \n",
       "177  FC Luzern                  FC Sion                2                2   \n",
       "178    FC Thun           BSC Young Boys                0                3   \n",
       "179  FC Zürich                 FC Vaduz                3                1   \n",
       "\n",
       "          HAS       HDS       AAS       ADS        OH        OA  Over/Under  \n",
       "175  1.349294  0.937589  0.772233  1.151697  0.395948  0.356397           0  \n",
       "176  1.585333  1.418041  0.670711  2.592723  0.724248  0.813158           1  \n",
       "177  2.767976  1.007609  1.401426  1.696838  0.968361  0.595714           1  \n",
       "178  1.231006  1.798619  2.355924  0.952189  0.710234  0.908765           1  \n",
       "179  1.628038  1.903931  1.838284  2.342107  0.760587  0.955183           1  "
      ]
     },
     "execution_count": 9,
     "metadata": {},
     "output_type": "execute_result"
    }
   ],
   "source": [
    "# Giving a look to the final dataset we are going to use for our predictions\n",
    "\n",
    "merged_df.tail()"
   ]
  },
  {
   "cell_type": "code",
   "execution_count": 10,
   "metadata": {},
   "outputs": [
    {
     "data": {
      "image/png": "[encoded data removed]",
      "text/plain": [
       "<Figure size 432x432 with 1 Axes>"
      ]
     },
     "metadata": {},
     "output_type": "display_data"
    }
   ],
   "source": [
    "# Checking if there's balance among the number of under and over\n",
    "\n",
    "labels = [\"Under (0)\", \"Over (1)\"]\n",
    "under_len = len(merged_df[merged_df[\"Over/Under\"]==0])\n",
    "over_len = len(merged_df[merged_df[\"Over/Under\"]==1])\n",
    "sizes = [over_len, under_len]\n",
    "colors = [\"red\", \"green\"]\n",
    "plt.figure(figsize=(6,6))\n",
    "plt.pie(sizes, labels=labels, colors=colors, autopct='%1.1f%%', startangle=270)\n",
    "plt.show()"
   ]
  },
  {
   "cell_type": "markdown",
   "metadata": {},
   "source": [
    "## Predictions"
   ]
  },
  {
   "cell_type": "code",
   "execution_count": 11,
   "metadata": {},
   "outputs": [],
   "source": [
    "# Splitting the data into training and testing\n",
    "\n",
    "X = merged_df[[\"HAS\", \"HDS\", \"AAS\", \"ADS\", \"OH\", \"OA\"]]\n",
    "y = merged_df[\"Over/Under\"]\n",
    "X_train, X_test, y_train, y_test = train_test_split(X, y, test_size=0.3, random_state=42)"
   ]
  },
  {
   "cell_type": "code",
   "execution_count": 12,
   "metadata": {},
   "outputs": [],
   "source": [
    "# Trying to predict Over/Under using Logistic Regression\n",
    "\n",
    "log_reg = LogisticRegression(solver=\"liblinear\", penalty=\"l2\", C=0.1)\n",
    "log_reg.fit(X_train, y_train)\n",
    "test_log_reg = log_reg.predict(X_test)"
   ]
  },
  {
   "cell_type": "code",
   "execution_count": 13,
   "metadata": {},
   "outputs": [
    {
     "data": {
      "text/plain": [
       "94.58557865024378"
      ]
     },
     "execution_count": 13,
     "metadata": {},
     "output_type": "execute_result"
    }
   ],
   "source": [
    "# Checking the accuracy of the Logistic Regression algorithm\n",
    "\n",
    "metrics.accuracy_score(y_test, test_log_reg)*100"
   ]
  },
  {
   "cell_type": "code",
   "execution_count": 14,
   "metadata": {},
   "outputs": [
    {
     "data": {
      "image/png": "[encoded data removed]",
      "text/plain": [
       "<Figure size 360x360 with 2 Axes>"
      ]
     },
     "metadata": {
      "needs_background": "light"
     },
     "output_type": "display_data"
    }
   ],
   "source": [
    "cm = metrics.confusion_matrix(y_test, test_log_reg)\n",
    "plt.figure(figsize=(5,5))\n",
    "sn.heatmap(cm, annot=True, fmt=\"d\")\n",
    "plt.title(\"Confusion matrix \\n \\n\")\n",
    "plt.ylabel(\"Actual\")\n",
    "plt.xlabel(\"Predicted\")\n",
    "plt.show()"
   ]
  },
  {
   "cell_type": "code",
   "execution_count": 15,
   "metadata": {},
   "outputs": [],
   "source": [
    "# Trying to predict Over/Under using a Deep Neural Network\n",
    "# NOTE: Commented because the neural network needs to be fitted and saved only once (and then re-loaded),\n",
    "# in order to preserve the same model and save computational power. \n",
    "\n",
    "#model = Sequential()\n",
    "#model.add(Dense(100, input_dim=6, activation = \"relu\"))\n",
    "#model.add(Dropout(0.5))\n",
    "#model.add(Dense(100, activation = \"relu\"))\n",
    "#model.add(Dropout(0.5))\n",
    "#model.add(Dense(100, activation = \"relu\"))\n",
    "#model.add(Dropout(0.5))\n",
    "#model.add(Dense(100, activation = \"relu\"))\n",
    "#model.add(Dense(100, activation = \"relu\"))\n",
    "#model.add(Dense(1, activation=\"sigmoid\"))\n",
    "#model.compile(loss=\"binary_crossentropy\", optimizer='adam', metrics=['accuracy'])\n",
    "\n",
    "#model.fit(X_train, y_train, batch_size = 512, epochs=1000)"
   ]
  },
  {
   "cell_type": "code",
   "execution_count": 16,
   "metadata": {},
   "outputs": [],
   "source": [
    "#model.save('over_under.h5')\n",
    "model = load_model('over_under.h5')"
   ]
  },
  {
   "cell_type": "code",
   "execution_count": 17,
   "metadata": {},
   "outputs": [
    {
     "name": "stdout",
     "output_type": "stream",
     "text": [
      "7794/7794 [==============================] - 0s 29us/step\n"
     ]
    },
    {
     "data": {
      "text/plain": [
       "[0.10643519260216774, 0.9507313370704651]"
      ]
     },
     "execution_count": 17,
     "metadata": {},
     "output_type": "execute_result"
    }
   ],
   "source": [
    "# Checking the accuracy of the model\n",
    "\n",
    "model.evaluate(X_test, y_test)"
   ]
  },
  {
   "cell_type": "markdown",
   "metadata": {},
   "source": [
    "## Analysis of the errors\n",
    "\n",
    "In this final section we analyse the the errors to check whether they have something in common, and then, based on the results, we will try to elaborate a betting strategy.  \n",
    "We can interpret the outcome of the logistic regression as the \"final\" prediction, and the outcome of the neural network as the probability of that prediction corresponding to the actual outcome.  \n",
    "For our analysis, we are going to divide the probabilities resulting from the model in 10 classes from 0 to 1 in steps of 0.1, and assume for a moment that our betting strategy would be to bet under when the probability is less than 0.5, and to bet over when the probability is greater or equal to 0.5."
   ]
  },
  {
   "cell_type": "code",
   "execution_count": 18,
   "metadata": {},
   "outputs": [],
   "source": [
    "predictions = X_test.copy()\n",
    "predictions[\"Prediction\"] = log_reg.predict(X_test)\n",
    "predictions[\"Actual\"] = y_test\n",
    "predictions[\"Probability\"] = np.round(model.predict(X_test), 2)"
   ]
  },
  {
   "cell_type": "code",
   "execution_count": 19,
   "metadata": {},
   "outputs": [
    {
     "data": {
      "text/html": [
       "<div>\n",
       "<style scoped>\n",
       "    .dataframe tbody tr th:only-of-type {\n",
       "        vertical-align: middle;\n",
       "    }\n",
       "\n",
       "    .dataframe tbody tr th {\n",
       "        vertical-align: top;\n",
       "    }\n",
       "\n",
       "    .dataframe thead th {\n",
       "        text-align: right;\n",
       "    }\n",
       "</style>\n",
       "<table border=\"1\" class=\"dataframe\">\n",
       "  <thead>\n",
       "    <tr style=\"text-align: right;\">\n",
       "      <th></th>\n",
       "      <th>HAS</th>\n",
       "      <th>HDS</th>\n",
       "      <th>AAS</th>\n",
       "      <th>ADS</th>\n",
       "      <th>OH</th>\n",
       "      <th>OA</th>\n",
       "      <th>Prediction</th>\n",
       "      <th>Actual</th>\n",
       "      <th>Probability</th>\n",
       "    </tr>\n",
       "  </thead>\n",
       "  <tbody>\n",
       "    <tr>\n",
       "      <th>53</th>\n",
       "      <td>1.736842</td>\n",
       "      <td>0.947368</td>\n",
       "      <td>2.315789</td>\n",
       "      <td>0.473684</td>\n",
       "      <td>0.684211</td>\n",
       "      <td>0.789474</td>\n",
       "      <td>1</td>\n",
       "      <td>1</td>\n",
       "      <td>1.00</td>\n",
       "    </tr>\n",
       "    <tr>\n",
       "      <th>192</th>\n",
       "      <td>1.556017</td>\n",
       "      <td>0.498712</td>\n",
       "      <td>0.723826</td>\n",
       "      <td>0.873193</td>\n",
       "      <td>0.199430</td>\n",
       "      <td>0.208669</td>\n",
       "      <td>0</td>\n",
       "      <td>0</td>\n",
       "      <td>0.00</td>\n",
       "    </tr>\n",
       "    <tr>\n",
       "      <th>36</th>\n",
       "      <td>1.600000</td>\n",
       "      <td>0.400000</td>\n",
       "      <td>1.200000</td>\n",
       "      <td>2.800000</td>\n",
       "      <td>0.000000</td>\n",
       "      <td>0.400000</td>\n",
       "      <td>0</td>\n",
       "      <td>0</td>\n",
       "      <td>0.00</td>\n",
       "    </tr>\n",
       "    <tr>\n",
       "      <th>237</th>\n",
       "      <td>1.554731</td>\n",
       "      <td>0.844972</td>\n",
       "      <td>1.266293</td>\n",
       "      <td>1.450116</td>\n",
       "      <td>0.448717</td>\n",
       "      <td>0.605091</td>\n",
       "      <td>1</td>\n",
       "      <td>1</td>\n",
       "      <td>0.66</td>\n",
       "    </tr>\n",
       "    <tr>\n",
       "      <th>148</th>\n",
       "      <td>1.400591</td>\n",
       "      <td>1.405591</td>\n",
       "      <td>1.340262</td>\n",
       "      <td>1.152496</td>\n",
       "      <td>0.456665</td>\n",
       "      <td>0.522091</td>\n",
       "      <td>0</td>\n",
       "      <td>0</td>\n",
       "      <td>0.62</td>\n",
       "    </tr>\n",
       "  </tbody>\n",
       "</table>\n",
       "</div>"
      ],
      "text/plain": [
       "          HAS       HDS       AAS       ADS        OH        OA  Prediction  \\\n",
       "53   1.736842  0.947368  2.315789  0.473684  0.684211  0.789474           1   \n",
       "192  1.556017  0.498712  0.723826  0.873193  0.199430  0.208669           0   \n",
       "36   1.600000  0.400000  1.200000  2.800000  0.000000  0.400000           0   \n",
       "237  1.554731  0.844972  1.266293  1.450116  0.448717  0.605091           1   \n",
       "148  1.400591  1.405591  1.340262  1.152496  0.456665  0.522091           0   \n",
       "\n",
       "     Actual  Probability  \n",
       "53        1         1.00  \n",
       "192       0         0.00  \n",
       "36        0         0.00  \n",
       "237       1         0.66  \n",
       "148       0         0.62  "
      ]
     },
     "execution_count": 19,
     "metadata": {},
     "output_type": "execute_result"
    }
   ],
   "source": [
    "predictions.tail()"
   ]
  },
  {
   "cell_type": "code",
   "execution_count": 20,
   "metadata": {},
   "outputs": [],
   "source": [
    "step = 0.1\n",
    "classes_over = np.arange(0.5, 1, step=step)\n",
    "counter_over = []\n",
    "for i in classes_over:\n",
    "    counter_list = []\n",
    "    for j in predictions[\"Probability\"]:\n",
    "        if i<=j<=i+step:\n",
    "            counter_list.append(j)\n",
    "    num = len(predictions[(predictions[\"Probability\"]>i) & (predictions[\"Actual\"]==1) & (predictions[\"Prediction\"]==0)])\n",
    "    counter_over.append(np.round(num/len(counter_list),4)*100)"
   ]
  },
  {
   "cell_type": "code",
   "execution_count": 21,
   "metadata": {},
   "outputs": [],
   "source": [
    "classes_under = np.arange(0, 0.5, step=step)\n",
    "counter_under = []\n",
    "for i in classes_under:\n",
    "    counter_list = []\n",
    "    for j in predictions[\"Probability\"]:\n",
    "        if i<=j<=i+step:\n",
    "            counter_list.append(j)\n",
    "    num = len(predictions[(predictions[\"Probability\"]<i) & (predictions[\"Actual\"]==0) & (predictions[\"Prediction\"]==1)])\n",
    "    counter_under.append(np.round(num/len(counter_list),4)*100)"
   ]
  },
  {
   "cell_type": "code",
   "execution_count": 22,
   "metadata": {},
   "outputs": [],
   "source": [
    "classes = [[round(i,1), round(i+step,1)] for i in np.arange(0, 1, step=step)]\n",
    "errors = pd.DataFrame()\n",
    "errors[\"Classes\"] = classes\n",
    "errors[\"% Error Under\"] = np.NaN\n",
    "errors[\"% Error Over\"] = np.NaN\n",
    "errors.iloc[0:5, 1] = counter_under\n",
    "errors.iloc[5:, 2] = counter_over\n",
    "errors.set_index(\"Classes\", inplace=True)"
   ]
  },
  {
   "cell_type": "code",
   "execution_count": 23,
   "metadata": {},
   "outputs": [
    {
     "data": {
      "text/html": [
       "<div>\n",
       "<style scoped>\n",
       "    .dataframe tbody tr th:only-of-type {\n",
       "        vertical-align: middle;\n",
       "    }\n",
       "\n",
       "    .dataframe tbody tr th {\n",
       "        vertical-align: top;\n",
       "    }\n",
       "\n",
       "    .dataframe thead th {\n",
       "        text-align: right;\n",
       "    }\n",
       "</style>\n",
       "<table border=\"1\" class=\"dataframe\">\n",
       "  <thead>\n",
       "    <tr style=\"text-align: right;\">\n",
       "      <th></th>\n",
       "      <th>% Error Under</th>\n",
       "      <th>% Error Over</th>\n",
       "    </tr>\n",
       "    <tr>\n",
       "      <th>Classes</th>\n",
       "      <th></th>\n",
       "      <th></th>\n",
       "    </tr>\n",
       "  </thead>\n",
       "  <tbody>\n",
       "    <tr>\n",
       "      <th>[0.0, 0.1]</th>\n",
       "      <td>0.00</td>\n",
       "      <td>NaN</td>\n",
       "    </tr>\n",
       "    <tr>\n",
       "      <th>[0.1, 0.2]</th>\n",
       "      <td>1.12</td>\n",
       "      <td>NaN</td>\n",
       "    </tr>\n",
       "    <tr>\n",
       "      <th>[0.2, 0.3]</th>\n",
       "      <td>6.20</td>\n",
       "      <td>NaN</td>\n",
       "    </tr>\n",
       "    <tr>\n",
       "      <th>[0.3, 0.4]</th>\n",
       "      <td>48.60</td>\n",
       "      <td>NaN</td>\n",
       "    </tr>\n",
       "    <tr>\n",
       "      <th>[0.4, 0.5]</th>\n",
       "      <td>61.48</td>\n",
       "      <td>NaN</td>\n",
       "    </tr>\n",
       "    <tr>\n",
       "      <th>[0.5, 0.6]</th>\n",
       "      <td>NaN</td>\n",
       "      <td>63.37</td>\n",
       "    </tr>\n",
       "    <tr>\n",
       "      <th>[0.6, 0.7]</th>\n",
       "      <td>NaN</td>\n",
       "      <td>12.70</td>\n",
       "    </tr>\n",
       "    <tr>\n",
       "      <th>[0.7, 0.8]</th>\n",
       "      <td>NaN</td>\n",
       "      <td>1.89</td>\n",
       "    </tr>\n",
       "    <tr>\n",
       "      <th>[0.8, 0.9]</th>\n",
       "      <td>NaN</td>\n",
       "      <td>1.40</td>\n",
       "    </tr>\n",
       "    <tr>\n",
       "      <th>[0.9, 1.0]</th>\n",
       "      <td>NaN</td>\n",
       "      <td>0.00</td>\n",
       "    </tr>\n",
       "  </tbody>\n",
       "</table>\n",
       "</div>"
      ],
      "text/plain": [
       "            % Error Under  % Error Over\n",
       "Classes                                \n",
       "[0.0, 0.1]           0.00           NaN\n",
       "[0.1, 0.2]           1.12           NaN\n",
       "[0.2, 0.3]           6.20           NaN\n",
       "[0.3, 0.4]          48.60           NaN\n",
       "[0.4, 0.5]          61.48           NaN\n",
       "[0.5, 0.6]            NaN         63.37\n",
       "[0.6, 0.7]            NaN         12.70\n",
       "[0.7, 0.8]            NaN          1.89\n",
       "[0.8, 0.9]            NaN          1.40\n",
       "[0.9, 1.0]            NaN          0.00"
      ]
     },
     "execution_count": 23,
     "metadata": {},
     "output_type": "execute_result"
    }
   ],
   "source": [
    "errors"
   ]
  },
  {
   "cell_type": "markdown",
   "metadata": {},
   "source": [
    "How to interpret these results:  \n",
    "- Every time the probability was between 0 and 0.1, the model always correctly predicted the outcome (Under);\n",
    "- Every time the probability was between 0.1 and 0.2, the model made mistakes 1.12% of the times;\n",
    "- Every time the probability was between 0.8 and 0.9, the model made mistakes 1.40% of the times.\n",
    "\n",
    "And so on.  \n",
    "  \n",
    "We can conclude that, relying on this model, a good betting strategy would be to bet:  \n",
    "- Under when the probability is between 0 and 0.3;\n",
    "- Over when the probability is between 0.7 and 1."
   ]
  },
  {
   "cell_type": "code",
   "execution_count": null,
   "metadata": {},
   "outputs": [],
   "source": []
  }
 ],
 "metadata": {
  "kernelspec": {
   "display_name": "Python 3",
   "language": "python",
   "name": "python3"
  },
  "language_info": {
   "codemirror_mode": {
    "name": "ipython",
    "version": 3
   },
   "file_extension": ".py",
   "mimetype": "text/x-python",
   "name": "python",
   "nbconvert_exporter": "python",
   "pygments_lexer": "ipython3",
   "version": "3.7.4"
  }
 },
 "nbformat": 4,
 "nbformat_minor": 2
}
